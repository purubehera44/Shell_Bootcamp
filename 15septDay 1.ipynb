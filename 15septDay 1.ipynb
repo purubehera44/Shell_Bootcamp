{
 "cells": [
  {
   "cell_type": "code",
   "execution_count": 1,
   "id": "4373e355",
   "metadata": {},
   "outputs": [
    {
     "name": "stdout",
     "output_type": "stream",
     "text": [
      "Hello, World!\n"
     ]
    }
   ],
   "source": [
    "print(\"Hello, World!\")\n"
   ]
  },
  {
   "cell_type": "code",
   "execution_count": 2,
   "id": "eaf14042",
   "metadata": {},
   "outputs": [],
   "source": [
    "# Variables\n",
    "x = 5\n",
    "name = \"Alice\"\n",
    "\n",
    "# Numeric data types\n",
    "num1 = 10\n",
    "num2 = 3.14\n",
    "\n",
    "# Lists and Tuples\n",
    "my_list = [1, 2, 3]\n",
    "my_tuple = (4, 5, 6)\n",
    "\n",
    "# Dictionaries\n",
    "person = {\"name\": \"Bob\", \"age\": 30}\n"
   ]
  },
  {
   "cell_type": "code",
   "execution_count": 3,
   "id": "c95c8009",
   "metadata": {},
   "outputs": [
    {
     "name": "stdout",
     "output_type": "stream",
     "text": [
      "Positive\n",
      "0\n",
      "1\n",
      "2\n",
      "3\n",
      "4\n",
      "1\n"
     ]
    }
   ],
   "source": [
    "# Conditional Statements\n",
    "if x > 0:\n",
    "    print(\"Positive\")\n",
    "elif x == 0:\n",
    "    print(\"Zero\")\n",
    "else:\n",
    "    print(\"Negative\")\n",
    "\n",
    "# Loops\n",
    "for i in range(5):\n",
    "    print(i)\n",
    "\n",
    "# Break and Continue\n",
    "for i in range(10):\n",
    "    if i == 3:\n",
    "        break\n",
    "    if i % 2 == 0:\n",
    "        continue\n",
    "    print(i)\n"
   ]
  },
  {
   "cell_type": "code",
   "execution_count": 4,
   "id": "c6c8caaa",
   "metadata": {},
   "outputs": [
    {
     "name": "stdout",
     "output_type": "stream",
     "text": [
      "Hello, Alice!\n"
     ]
    }
   ],
   "source": [
    "# Function definition\n",
    "def greet(name):\n",
    "    return f\"Hello, {name}!\"\n",
    "\n",
    "# Function call\n",
    "message = greet(\"Alice\")\n",
    "print(message)\n"
   ]
  },
  {
   "cell_type": "code",
   "execution_count": 5,
   "id": "923d4a67",
   "metadata": {},
   "outputs": [
    {
     "name": "stdout",
     "output_type": "stream",
     "text": [
      "1\n",
      "5\n",
      "Bob\n"
     ]
    }
   ],
   "source": [
    "# Lists\n",
    "my_list = [1, 2, 3]\n",
    "my_list.append(4)\n",
    "print(my_list[0])\n",
    "\n",
    "# Tuples\n",
    "my_tuple = (4, 5, 6)\n",
    "print(my_tuple[1])\n",
    "\n",
    "# Dictionaries\n",
    "person = {\"name\": \"Bob\", \"age\": 30}\n",
    "print(person[\"name\"])\n"
   ]
  },
  {
   "cell_type": "code",
   "execution_count": 6,
   "id": "9892a10f",
   "metadata": {},
   "outputs": [
    {
     "name": "stdout",
     "output_type": "stream",
     "text": [
      "Hello, World!\n"
     ]
    }
   ],
   "source": [
    "# Writing to a file\n",
    "with open(\"example.txt\", \"w\") as file:\n",
    "    file.write(\"Hello, World!\")\n",
    "\n",
    "# Reading from a file\n",
    "with open(\"example.txt\", \"r\") as file:\n",
    "    content = file.read()\n",
    "    print(content)\n"
   ]
  },
  {
   "cell_type": "code",
   "execution_count": 7,
   "id": "41999ea2",
   "metadata": {},
   "outputs": [
    {
     "name": "stdout",
     "output_type": "stream",
     "text": [
      "Division by zero is not allowed.\n",
      "Execution completed.\n"
     ]
    }
   ],
   "source": [
    "try:\n",
    "    result = 10 / 0\n",
    "except ZeroDivisionError:\n",
    "    print(\"Division by zero is not allowed.\")\n",
    "except Exception as e:\n",
    "    print(f\"An error occurred: {e}\")\n",
    "else:\n",
    "    print(f\"Result: {result}\")\n",
    "finally:\n",
    "    print(\"Execution completed.\")\n"
   ]
  },
  {
   "cell_type": "code",
   "execution_count": 8,
   "id": "c1452ec3",
   "metadata": {},
   "outputs": [
    {
     "name": "stdout",
     "output_type": "stream",
     "text": [
      "Email found: john@example.com\n",
      "Phone numbers: ['123-456-7890', '987-654-3210']\n"
     ]
    }
   ],
   "source": [
    "import re\n",
    "\n",
    "# Search for a pattern in a string\n",
    "text = \"Hello, my email is john@example.com\"\n",
    "pattern = r'\\S+@\\S+'  # Matches an email address\n",
    "match = re.search(pattern, text)\n",
    "if match:\n",
    "    print(\"Email found:\", match.group())\n",
    "\n",
    "# Find all occurrences of a pattern\n",
    "text = \"The phone numbers are 123-456-7890 and 987-654-3210.\"\n",
    "pattern = r'\\d{3}-\\d{3}-\\d{4}'  # Matches phone numbers in format xxx-xxx-xxxx\n",
    "matches = re.findall(pattern, text)\n",
    "print(\"Phone numbers:\", matches)\n"
   ]
  },
  {
   "cell_type": "code",
   "execution_count": 9,
   "id": "6bb7a3de",
   "metadata": {},
   "outputs": [
    {
     "name": "stdout",
     "output_type": "stream",
     "text": [
      "Squares: [1, 4, 9, 16, 25]\n",
      "0\n",
      "2\n",
      "4\n",
      "6\n",
      "8\n"
     ]
    }
   ],
   "source": [
    "# List comprehension to create a list of squares\n",
    "squares = [x ** 2 for x in range(1, 6)]\n",
    "print(\"Squares:\", squares)\n",
    "\n",
    "# Generator expression (produces values lazily)\n",
    "even_numbers = (x for x in range(10) if x % 2 == 0)\n",
    "for num in even_numbers:\n",
    "    print(num)\n"
   ]
  },
  {
   "cell_type": "code",
   "execution_count": 10,
   "id": "98ab9de5",
   "metadata": {},
   "outputs": [
    {
     "name": "stdout",
     "output_type": "stream",
     "text": [
      "Doubled: [2, 4, 6, 8, 10]\n",
      "Even numbers: [2, 4]\n",
      "Sum: 15\n"
     ]
    }
   ],
   "source": [
    "# Using map to double each element in a list\n",
    "numbers = [1, 2, 3, 4, 5]\n",
    "doubled = list(map(lambda x: x * 2, numbers))\n",
    "print(\"Doubled:\", doubled)\n",
    "\n",
    "# Using filter to get even numbers from a list\n",
    "even = list(filter(lambda x: x % 2 == 0, numbers))\n",
    "print(\"Even numbers:\", even)\n",
    "\n",
    "# Using reduce to find the sum of elements in a list\n",
    "from functools import reduce\n",
    "sum_result = reduce(lambda x, y: x + y, numbers)\n",
    "print(\"Sum:\", sum_result)\n"
   ]
  },
  {
   "cell_type": "code",
   "execution_count": null,
   "id": "0ca26d5b",
   "metadata": {},
   "outputs": [],
   "source": []
  }
 ],
 "metadata": {
  "kernelspec": {
   "display_name": "Python 3 (ipykernel)",
   "language": "python",
   "name": "python3"
  },
  "language_info": {
   "codemirror_mode": {
    "name": "ipython",
    "version": 3
   },
   "file_extension": ".py",
   "mimetype": "text/x-python",
   "name": "python",
   "nbconvert_exporter": "python",
   "pygments_lexer": "ipython3",
   "version": "3.11.4"
  }
 },
 "nbformat": 4,
 "nbformat_minor": 5
}
